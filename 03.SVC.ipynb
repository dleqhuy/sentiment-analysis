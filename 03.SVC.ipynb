{
  "cells": [
    {
      "cell_type": "markdown",
      "metadata": {
        "id": "view-in-github",
        "colab_type": "text"
      },
      "source": [
        "<a href=\"https://colab.research.google.com/github/dleqhuy/Sentiment_Analysis/blob/main/03.SVC.ipynb\" target=\"_parent\"><img src=\"https://colab.research.google.com/assets/colab-badge.svg\" alt=\"Open In Colab\"/></a>"
      ]
    },
    {
      "cell_type": "code",
      "source": [
        "!git clone https://github.com/dleqhuy/Sentiment_Analysis"
      ],
      "metadata": {
        "colab": {
          "base_uri": "https://localhost:8080/"
        },
        "id": "pCm5xEtp83OG",
        "outputId": "03e7c728-3e67-49bf-9c36-7e964b387a42"
      },
      "execution_count": 1,
      "outputs": [
        {
          "output_type": "stream",
          "name": "stdout",
          "text": [
            "Cloning into 'Sentiment_Analysis'...\n",
            "remote: Enumerating objects: 202, done.\u001b[K\n",
            "remote: Counting objects: 100% (202/202), done.\u001b[K\n",
            "remote: Compressing objects: 100% (165/165), done.\u001b[K\n",
            "remote: Total 202 (delta 99), reused 101 (delta 33), pack-reused 0\u001b[K\n",
            "Receiving objects: 100% (202/202), 4.56 MiB | 15.62 MiB/s, done.\n",
            "Resolving deltas: 100% (99/99), done.\n"
          ]
        }
      ]
    },
    {
      "cell_type": "code",
      "source": [
        "from google.colab import drive\n",
        "drive.mount('/content/drive')"
      ],
      "metadata": {
        "colab": {
          "base_uri": "https://localhost:8080/"
        },
        "id": "jE9Jq0S09bTC",
        "outputId": "6f93a8ea-471b-402e-e8f5-f48495e88636"
      },
      "execution_count": 2,
      "outputs": [
        {
          "output_type": "stream",
          "name": "stdout",
          "text": [
            "Mounted at /content/drive\n"
          ]
        }
      ]
    },
    {
      "cell_type": "code",
      "execution_count": 3,
      "source": [
        "import sys\n",
        "sys.path.append('/content/Sentiment_Analysis')\n",
        "%load_ext autoreload\n",
        "%autoreload 2"
      ],
      "outputs": [],
      "metadata": {
        "id": "pQSb1IOV8QwE"
      }
    },
    {
      "cell_type": "code",
      "execution_count": 4,
      "source": [
        "import warnings\n",
        "import os\n",
        "import pandas as pd\n",
        "import numpy as np\n",
        "import modules.model as Model\n",
        "\n",
        "from sklearn.model_selection import StratifiedKFold\n",
        "from sklearn.linear_model import LogisticRegression\n",
        "from sklearn.svm import SVC\n",
        "\n",
        "warnings.filterwarnings('ignore')"
      ],
      "outputs": [],
      "metadata": {
        "id": "7k9PhyYX8QwM"
      }
    },
    {
      "cell_type": "markdown",
      "source": [
        "## Công việc:\n",
        "* Phần này, ta sẽ đào tạo một **Comment sentiment model**.\n",
        "* Chiến lược của ta sẽ như sau:\n",
        "  * **Bước 1**: Định nghĩa một vài vectorizer bằng **sklearn**.\n",
        "  * **Bước 2**: Liệt kê các classifier model.\n",
        "  * **Bước 3**: Với từng vectorizer đã liệt kê, sử dụng từng model classifier để đào tạo cross-validation với input là vectorizer tương ứng.\n",
        "  * **Bước 4**: Lựa chọn các model và vectorizer phù hợp với dataset comment.\n",
        "  * **Bước 5**: Tiến hành training lại nhưng không cross-validation.\n",
        "  * **Bước 6**: Đánh giá bằng accuracy trên test data.\n",
        "  * **Bước 7**: Lưu lại các model này thành file `*.pickle`."
      ],
      "metadata": {
        "id": "NATk-JUj8QwO"
      }
    },
    {
      "cell_type": "code",
      "source": [
        "data = pd.read_csv('/content/drive/MyDrive/shopee/normalize_reviews.csv')"
      ],
      "metadata": {
        "id": "F1vKBU7ds4UM"
      },
      "execution_count": 5,
      "outputs": []
    },
    {
      "cell_type": "code",
      "source": [
        "Model.dataSplitSaved(data, 0.2, \"/content/drive/MyDrive/shopee\")"
      ],
      "metadata": {
        "colab": {
          "base_uri": "https://localhost:8080/"
        },
        "id": "ZU-Bjn_7lIQV",
        "outputId": "3612deac-c09d-47f4-94b9-216513194231"
      },
      "execution_count": 6,
      "outputs": [
        {
          "output_type": "stream",
          "name": "stdout",
          "text": [
            "📢 Your dataset has saved at /content/drive/MyDrive/shopee.\n"
          ]
        }
      ]
    },
    {
      "cell_type": "markdown",
      "source": [
        "Load training data."
      ],
      "metadata": {
        "id": "HF6zj9eD8QwU"
      }
    },
    {
      "cell_type": "code",
      "execution_count": 7,
      "source": [
        "X_train, y_train = Model.loadData(\"/content/drive/MyDrive/shopee/train\")\n",
        "display(X_train.head(), y_train.head())"
      ],
      "outputs": [
        {
          "output_type": "display_data",
          "data": {
            "text/plain": [
              "                                   normalize_comment\n",
              "0  chất gel đặc bọt tan rất lâu lưu bọt khá lâu h...\n",
              "1  hàng đóng không được đẹp mùi hơi hắc nhưng cũn...\n",
              "2  lọ sửa rửa mặt lép_kẹp như dùng nắp lọ không c...\n",
              "3  sản_phẩm ok giao hàng nhanh nhưng chuẩn hơi lâ...\n",
              "4                                            đểu quá"
            ],
            "text/html": [
              "\n",
              "  <div id=\"df-47d0cd3e-a235-40d1-92bc-aceebe1c4b34\">\n",
              "    <div class=\"colab-df-container\">\n",
              "      <div>\n",
              "<style scoped>\n",
              "    .dataframe tbody tr th:only-of-type {\n",
              "        vertical-align: middle;\n",
              "    }\n",
              "\n",
              "    .dataframe tbody tr th {\n",
              "        vertical-align: top;\n",
              "    }\n",
              "\n",
              "    .dataframe thead th {\n",
              "        text-align: right;\n",
              "    }\n",
              "</style>\n",
              "<table border=\"1\" class=\"dataframe\">\n",
              "  <thead>\n",
              "    <tr style=\"text-align: right;\">\n",
              "      <th></th>\n",
              "      <th>normalize_comment</th>\n",
              "    </tr>\n",
              "  </thead>\n",
              "  <tbody>\n",
              "    <tr>\n",
              "      <th>0</th>\n",
              "      <td>chất gel đặc bọt tan rất lâu lưu bọt khá lâu h...</td>\n",
              "    </tr>\n",
              "    <tr>\n",
              "      <th>1</th>\n",
              "      <td>hàng đóng không được đẹp mùi hơi hắc nhưng cũn...</td>\n",
              "    </tr>\n",
              "    <tr>\n",
              "      <th>2</th>\n",
              "      <td>lọ sửa rửa mặt lép_kẹp như dùng nắp lọ không c...</td>\n",
              "    </tr>\n",
              "    <tr>\n",
              "      <th>3</th>\n",
              "      <td>sản_phẩm ok giao hàng nhanh nhưng chuẩn hơi lâ...</td>\n",
              "    </tr>\n",
              "    <tr>\n",
              "      <th>4</th>\n",
              "      <td>đểu quá</td>\n",
              "    </tr>\n",
              "  </tbody>\n",
              "</table>\n",
              "</div>\n",
              "      <button class=\"colab-df-convert\" onclick=\"convertToInteractive('df-47d0cd3e-a235-40d1-92bc-aceebe1c4b34')\"\n",
              "              title=\"Convert this dataframe to an interactive table.\"\n",
              "              style=\"display:none;\">\n",
              "        \n",
              "  <svg xmlns=\"http://www.w3.org/2000/svg\" height=\"24px\"viewBox=\"0 0 24 24\"\n",
              "       width=\"24px\">\n",
              "    <path d=\"M0 0h24v24H0V0z\" fill=\"none\"/>\n",
              "    <path d=\"M18.56 5.44l.94 2.06.94-2.06 2.06-.94-2.06-.94-.94-2.06-.94 2.06-2.06.94zm-11 1L8.5 8.5l.94-2.06 2.06-.94-2.06-.94L8.5 2.5l-.94 2.06-2.06.94zm10 10l.94 2.06.94-2.06 2.06-.94-2.06-.94-.94-2.06-.94 2.06-2.06.94z\"/><path d=\"M17.41 7.96l-1.37-1.37c-.4-.4-.92-.59-1.43-.59-.52 0-1.04.2-1.43.59L10.3 9.45l-7.72 7.72c-.78.78-.78 2.05 0 2.83L4 21.41c.39.39.9.59 1.41.59.51 0 1.02-.2 1.41-.59l7.78-7.78 2.81-2.81c.8-.78.8-2.07 0-2.86zM5.41 20L4 18.59l7.72-7.72 1.47 1.35L5.41 20z\"/>\n",
              "  </svg>\n",
              "      </button>\n",
              "      \n",
              "  <style>\n",
              "    .colab-df-container {\n",
              "      display:flex;\n",
              "      flex-wrap:wrap;\n",
              "      gap: 12px;\n",
              "    }\n",
              "\n",
              "    .colab-df-convert {\n",
              "      background-color: #E8F0FE;\n",
              "      border: none;\n",
              "      border-radius: 50%;\n",
              "      cursor: pointer;\n",
              "      display: none;\n",
              "      fill: #1967D2;\n",
              "      height: 32px;\n",
              "      padding: 0 0 0 0;\n",
              "      width: 32px;\n",
              "    }\n",
              "\n",
              "    .colab-df-convert:hover {\n",
              "      background-color: #E2EBFA;\n",
              "      box-shadow: 0px 1px 2px rgba(60, 64, 67, 0.3), 0px 1px 3px 1px rgba(60, 64, 67, 0.15);\n",
              "      fill: #174EA6;\n",
              "    }\n",
              "\n",
              "    [theme=dark] .colab-df-convert {\n",
              "      background-color: #3B4455;\n",
              "      fill: #D2E3FC;\n",
              "    }\n",
              "\n",
              "    [theme=dark] .colab-df-convert:hover {\n",
              "      background-color: #434B5C;\n",
              "      box-shadow: 0px 1px 3px 1px rgba(0, 0, 0, 0.15);\n",
              "      filter: drop-shadow(0px 1px 2px rgba(0, 0, 0, 0.3));\n",
              "      fill: #FFFFFF;\n",
              "    }\n",
              "  </style>\n",
              "\n",
              "      <script>\n",
              "        const buttonEl =\n",
              "          document.querySelector('#df-47d0cd3e-a235-40d1-92bc-aceebe1c4b34 button.colab-df-convert');\n",
              "        buttonEl.style.display =\n",
              "          google.colab.kernel.accessAllowed ? 'block' : 'none';\n",
              "\n",
              "        async function convertToInteractive(key) {\n",
              "          const element = document.querySelector('#df-47d0cd3e-a235-40d1-92bc-aceebe1c4b34');\n",
              "          const dataTable =\n",
              "            await google.colab.kernel.invokeFunction('convertToInteractive',\n",
              "                                                     [key], {});\n",
              "          if (!dataTable) return;\n",
              "\n",
              "          const docLinkHtml = 'Like what you see? Visit the ' +\n",
              "            '<a target=\"_blank\" href=https://colab.research.google.com/notebooks/data_table.ipynb>data table notebook</a>'\n",
              "            + ' to learn more about interactive tables.';\n",
              "          element.innerHTML = '';\n",
              "          dataTable['output_type'] = 'display_data';\n",
              "          await google.colab.output.renderOutput(dataTable, element);\n",
              "          const docLink = document.createElement('div');\n",
              "          docLink.innerHTML = docLinkHtml;\n",
              "          element.appendChild(docLink);\n",
              "        }\n",
              "      </script>\n",
              "    </div>\n",
              "  </div>\n",
              "  "
            ]
          },
          "metadata": {}
        },
        {
          "output_type": "display_data",
          "data": {
            "text/plain": [
              "   label\n",
              "0      0\n",
              "1      0\n",
              "2      0\n",
              "3      1\n",
              "4      0"
            ],
            "text/html": [
              "\n",
              "  <div id=\"df-6939f7fb-91b8-4c43-ae1e-80a7c2411554\">\n",
              "    <div class=\"colab-df-container\">\n",
              "      <div>\n",
              "<style scoped>\n",
              "    .dataframe tbody tr th:only-of-type {\n",
              "        vertical-align: middle;\n",
              "    }\n",
              "\n",
              "    .dataframe tbody tr th {\n",
              "        vertical-align: top;\n",
              "    }\n",
              "\n",
              "    .dataframe thead th {\n",
              "        text-align: right;\n",
              "    }\n",
              "</style>\n",
              "<table border=\"1\" class=\"dataframe\">\n",
              "  <thead>\n",
              "    <tr style=\"text-align: right;\">\n",
              "      <th></th>\n",
              "      <th>label</th>\n",
              "    </tr>\n",
              "  </thead>\n",
              "  <tbody>\n",
              "    <tr>\n",
              "      <th>0</th>\n",
              "      <td>0</td>\n",
              "    </tr>\n",
              "    <tr>\n",
              "      <th>1</th>\n",
              "      <td>0</td>\n",
              "    </tr>\n",
              "    <tr>\n",
              "      <th>2</th>\n",
              "      <td>0</td>\n",
              "    </tr>\n",
              "    <tr>\n",
              "      <th>3</th>\n",
              "      <td>1</td>\n",
              "    </tr>\n",
              "    <tr>\n",
              "      <th>4</th>\n",
              "      <td>0</td>\n",
              "    </tr>\n",
              "  </tbody>\n",
              "</table>\n",
              "</div>\n",
              "      <button class=\"colab-df-convert\" onclick=\"convertToInteractive('df-6939f7fb-91b8-4c43-ae1e-80a7c2411554')\"\n",
              "              title=\"Convert this dataframe to an interactive table.\"\n",
              "              style=\"display:none;\">\n",
              "        \n",
              "  <svg xmlns=\"http://www.w3.org/2000/svg\" height=\"24px\"viewBox=\"0 0 24 24\"\n",
              "       width=\"24px\">\n",
              "    <path d=\"M0 0h24v24H0V0z\" fill=\"none\"/>\n",
              "    <path d=\"M18.56 5.44l.94 2.06.94-2.06 2.06-.94-2.06-.94-.94-2.06-.94 2.06-2.06.94zm-11 1L8.5 8.5l.94-2.06 2.06-.94-2.06-.94L8.5 2.5l-.94 2.06-2.06.94zm10 10l.94 2.06.94-2.06 2.06-.94-2.06-.94-.94-2.06-.94 2.06-2.06.94z\"/><path d=\"M17.41 7.96l-1.37-1.37c-.4-.4-.92-.59-1.43-.59-.52 0-1.04.2-1.43.59L10.3 9.45l-7.72 7.72c-.78.78-.78 2.05 0 2.83L4 21.41c.39.39.9.59 1.41.59.51 0 1.02-.2 1.41-.59l7.78-7.78 2.81-2.81c.8-.78.8-2.07 0-2.86zM5.41 20L4 18.59l7.72-7.72 1.47 1.35L5.41 20z\"/>\n",
              "  </svg>\n",
              "      </button>\n",
              "      \n",
              "  <style>\n",
              "    .colab-df-container {\n",
              "      display:flex;\n",
              "      flex-wrap:wrap;\n",
              "      gap: 12px;\n",
              "    }\n",
              "\n",
              "    .colab-df-convert {\n",
              "      background-color: #E8F0FE;\n",
              "      border: none;\n",
              "      border-radius: 50%;\n",
              "      cursor: pointer;\n",
              "      display: none;\n",
              "      fill: #1967D2;\n",
              "      height: 32px;\n",
              "      padding: 0 0 0 0;\n",
              "      width: 32px;\n",
              "    }\n",
              "\n",
              "    .colab-df-convert:hover {\n",
              "      background-color: #E2EBFA;\n",
              "      box-shadow: 0px 1px 2px rgba(60, 64, 67, 0.3), 0px 1px 3px 1px rgba(60, 64, 67, 0.15);\n",
              "      fill: #174EA6;\n",
              "    }\n",
              "\n",
              "    [theme=dark] .colab-df-convert {\n",
              "      background-color: #3B4455;\n",
              "      fill: #D2E3FC;\n",
              "    }\n",
              "\n",
              "    [theme=dark] .colab-df-convert:hover {\n",
              "      background-color: #434B5C;\n",
              "      box-shadow: 0px 1px 3px 1px rgba(0, 0, 0, 0.15);\n",
              "      filter: drop-shadow(0px 1px 2px rgba(0, 0, 0, 0.3));\n",
              "      fill: #FFFFFF;\n",
              "    }\n",
              "  </style>\n",
              "\n",
              "      <script>\n",
              "        const buttonEl =\n",
              "          document.querySelector('#df-6939f7fb-91b8-4c43-ae1e-80a7c2411554 button.colab-df-convert');\n",
              "        buttonEl.style.display =\n",
              "          google.colab.kernel.accessAllowed ? 'block' : 'none';\n",
              "\n",
              "        async function convertToInteractive(key) {\n",
              "          const element = document.querySelector('#df-6939f7fb-91b8-4c43-ae1e-80a7c2411554');\n",
              "          const dataTable =\n",
              "            await google.colab.kernel.invokeFunction('convertToInteractive',\n",
              "                                                     [key], {});\n",
              "          if (!dataTable) return;\n",
              "\n",
              "          const docLinkHtml = 'Like what you see? Visit the ' +\n",
              "            '<a target=\"_blank\" href=https://colab.research.google.com/notebooks/data_table.ipynb>data table notebook</a>'\n",
              "            + ' to learn more about interactive tables.';\n",
              "          element.innerHTML = '';\n",
              "          dataTable['output_type'] = 'display_data';\n",
              "          await google.colab.output.renderOutput(dataTable, element);\n",
              "          const docLink = document.createElement('div');\n",
              "          docLink.innerHTML = docLinkHtml;\n",
              "          element.appendChild(docLink);\n",
              "        }\n",
              "      </script>\n",
              "    </div>\n",
              "  </div>\n",
              "  "
            ]
          },
          "metadata": {}
        }
      ],
      "metadata": {
        "id": "li7yv2iT8QwV",
        "outputId": "7fdb6566-3197-47dc-f9c2-1902a50ba14c",
        "colab": {
          "base_uri": "https://localhost:8080/",
          "height": 395
        }
      }
    },
    {
      "cell_type": "code",
      "source": [
        "print(len(Model.vectorizer(X_train['normalize_comment'], 'bow')[0].get_feature_names()))"
      ],
      "metadata": {
        "colab": {
          "base_uri": "https://localhost:8080/"
        },
        "id": "v1sysv9K9J6E",
        "outputId": "d545713e-2d12-4701-e2dc-051371983025"
      },
      "execution_count": 8,
      "outputs": [
        {
          "output_type": "stream",
          "name": "stdout",
          "text": [
            "4928\n"
          ]
        }
      ]
    },
    {
      "cell_type": "markdown",
      "source": [
        "> **Nhận xét**:\n",
        "> * Với vectorizer dầu tiên, ta thiết lập `min_df=1` mặc định của **sklearn** thì ta có tổng cộng 4,928 từ (kể cả từ ghép).\n",
        "> * Số lượng này là quá lớn, sẽ khiến việc train model sẽ lâu."
      ],
      "metadata": {
        "id": "RLhLhe_Q8Qwo"
      }
    },
    {
      "cell_type": "markdown",
      "source": [
        "Dưới đây ta lần lượt phát sinh các vectorizer bằng cả Bag of Words và TF-IDF với các `min_df` khác nhau là 5, 10 và 20."
      ],
      "metadata": {
        "id": "UmuewMfx88-0"
      }
    },
    {
      "cell_type": "code",
      "execution_count": 9,
      "source": [
        "vectorizers = [\n",
        "    (\"Bag of Words - [min_df: 5]\", Model.vectorizer(X_train['normalize_comment'], 'bow', 5)),\n",
        "    (\"TF-IDF- [min_df: 5]\", Model.vectorizer(X_train['normalize_comment'], 'tfidf', 5)),\n",
        "    (\"Bag of Words - [min_df: 10]\", Model.vectorizer(X_train['normalize_comment'], 'bow', 10)),\n",
        "    (\"TF-IDF - [min_df: 10]\", Model.vectorizer(X_train['normalize_comment'], 'tfidf', 10)),\n",
        "    (\"Bag of Words - [min_df: 20]\", Model.vectorizer(X_train['normalize_comment'], 'bow', 20)),\n",
        "    (\"TF-IDF - [min_df: 20]\", Model.vectorizer(X_train['normalize_comment'], 'tfidf', 20)),\n",
        "]"
      ],
      "outputs": [],
      "metadata": {
        "id": "27s8vlJY8Qwn"
      }
    },
    {
      "cell_type": "code",
      "execution_count": 10,
      "source": [
        "ix = 0\n",
        "print(vectorizers[ix][0],len(vectorizers[ix][1][0].get_feature_names()))"
      ],
      "outputs": [
        {
          "output_type": "stream",
          "name": "stdout",
          "text": [
            "Bag of Words - [min_df: 5] 1455\n"
          ]
        }
      ],
      "metadata": {
        "id": "7JLioPsm8Qwp",
        "outputId": "50fbb970-8706-48f0-c55e-954b7b38f9c6",
        "colab": {
          "base_uri": "https://localhost:8080/"
        }
      }
    },
    {
      "cell_type": "markdown",
      "source": [
        "> **Nhận xét**:\n",
        "> * Với `min_df=5`, không gian nhỏ hơn từ  4,928 xuống còn 1,455 từ.\n",
        "> * Số lượng này ổn, thích hợp để đào tạo hơn đồng thời cho ta thấy trong hơn 6,737 comment, từ rác phát sinh quá nhiều bởi chính dữ liệu và N-Grams."
      ],
      "metadata": {
        "id": "kTm4lys88Qwq"
      }
    },
    {
      "cell_type": "code",
      "execution_count": 11,
      "source": [
        "ix = 2\n",
        "print(vectorizers[ix][0],len(vectorizers[ix][1][0].get_feature_names()))"
      ],
      "outputs": [
        {
          "output_type": "stream",
          "name": "stdout",
          "text": [
            "Bag of Words - [min_df: 10] 932\n"
          ]
        }
      ],
      "metadata": {
        "id": "pUWpHnJp8Qwr",
        "outputId": "81e8fffb-b2e5-4b2a-dbde-221d65f63194",
        "colab": {
          "base_uri": "https://localhost:8080/"
        }
      }
    },
    {
      "cell_type": "markdown",
      "source": [
        "> **Nhận xét**:\n",
        "> * Với `min_df=10`, lúc này chỉ còn hơn 932 từ và từ ghép thỏa phổ biến trên dataset comment."
      ],
      "metadata": {
        "id": "OUwRyP1d8Qwr"
      }
    },
    {
      "cell_type": "code",
      "execution_count": 12,
      "source": [
        "ix = 4\n",
        "print(vectorizers[ix][0],len(vectorizers[ix][1][0].get_feature_names()))"
      ],
      "outputs": [
        {
          "output_type": "stream",
          "name": "stdout",
          "text": [
            "Bag of Words - [min_df: 20] 631\n"
          ]
        }
      ],
      "metadata": {
        "id": "TO9IjctS8Qws",
        "outputId": "3ac63c3e-583e-406e-ec38-c0b647be8213",
        "colab": {
          "base_uri": "https://localhost:8080/"
        }
      }
    },
    {
      "cell_type": "markdown",
      "source": [
        "> **Nhận xét**:\n",
        "> * Với `min_df=20`, thì chỉ còn 631, con số này thì quá nhỏ so với hơn 6,737 comment, khả năng cao vectorizer này không đủ khả năng để đại diện cho dataset comment."
      ],
      "metadata": {
        "id": "Dkga0gFG8Qwt"
      }
    },
    {
      "cell_type": "markdown",
      "source": [
        "Bây giờ, ta liệt kê một vài clasifier model phổ biến và dùng các vectorizer có `min_df` lần lượt là 5, 10 và 10.\n",
        "\n",
        "Ta tiến hành train bằng cross-validation và chia training data làm 10 phần - sau đó lưu vào biến `cv` để đảm bảo dữ liệu khi cross-validation công bằng cho toàn bộ model. "
      ],
      "metadata": {
        "id": "cT5hZ6Ne8Qwu"
      }
    },
    {
      "cell_type": "code",
      "execution_count": 13,
      "source": [
        "lst_models = [\n",
        "    ('Logistic Regression', LogisticRegression()),\n",
        "    ('SVC - [kernel: linear]', SVC(kernel='linear', random_state=42,probability=True)),\n",
        "]\n",
        "cv = StratifiedKFold(n_splits=10, shuffle=True, random_state=42)"
      ],
      "outputs": [],
      "metadata": {
        "id": "szPPi2l_8Qwu"
      }
    },
    {
      "cell_type": "code",
      "execution_count": 14,
      "source": [
        "original_models = Model.train(lst_models, vectorizers, y_train, cv)\n",
        "\n",
        "original_models"
      ],
      "outputs": [
        {
          "output_type": "stream",
          "name": "stdout",
          "text": [
            "Bag of Words - [min_df: 5]:\n",
            "\tModel Logistic Regression has been trained in 1.11 seconds\n",
            "\tModel SVC - [kernel: linear] has been trained in 178.18 seconds\n",
            "TF-IDF- [min_df: 5]:\n",
            "\tModel Logistic Regression has been trained in 0.54 seconds\n",
            "\tModel SVC - [kernel: linear] has been trained in 160.23 seconds\n",
            "Bag of Words - [min_df: 10]:\n",
            "\tModel Logistic Regression has been trained in 1.04 seconds\n",
            "\tModel SVC - [kernel: linear] has been trained in 176.77 seconds\n",
            "TF-IDF - [min_df: 10]:\n",
            "\tModel Logistic Regression has been trained in 0.48 seconds\n",
            "\tModel SVC - [kernel: linear] has been trained in 153.18 seconds\n",
            "Bag of Words - [min_df: 20]:\n",
            "\tModel Logistic Regression has been trained in 1.00 seconds\n",
            "\tModel SVC - [kernel: linear] has been trained in 178.49 seconds\n",
            "TF-IDF - [min_df: 20]:\n",
            "\tModel Logistic Regression has been trained in 0.55 seconds\n",
            "\tModel SVC - [kernel: linear] has been trained in 144.79 seconds\n"
          ]
        },
        {
          "output_type": "execute_result",
          "data": {
            "text/plain": [
              "                     vectorizer                   model  train_acc  test_acc  \\\n",
              "0           TF-IDF- [min_df: 5]     Logistic Regression   0.890456  0.859139   \n",
              "1         TF-IDF - [min_df: 10]     Logistic Regression   0.884782  0.858396   \n",
              "2           TF-IDF- [min_df: 5]  SVC - [kernel: linear]   0.904343  0.855576   \n",
              "3         TF-IDF - [min_df: 20]     Logistic Regression   0.878631  0.854685   \n",
              "4         TF-IDF - [min_df: 10]  SVC - [kernel: linear]   0.893886  0.853647   \n",
              "5         TF-IDF - [min_df: 20]  SVC - [kernel: linear]   0.885871  0.852310   \n",
              "6    Bag of Words - [min_df: 5]     Logistic Regression   0.917075  0.851125   \n",
              "7   Bag of Words - [min_df: 10]     Logistic Regression   0.903567  0.847116   \n",
              "8   Bag of Words - [min_df: 20]     Logistic Regression   0.892188  0.843849   \n",
              "9   Bag of Words - [min_df: 20]  SVC - [kernel: linear]   0.899708  0.837765   \n",
              "10   Bag of Words - [min_df: 5]  SVC - [kernel: linear]   0.928785  0.835983   \n",
              "11  Bag of Words - [min_df: 10]  SVC - [kernel: linear]   0.912177  0.835685   \n",
              "\n",
              "    diff_acc  train_acc_std  test_acc_std   fit_time  \n",
              "0   0.031317       0.001467      0.010040   0.047388  \n",
              "1   0.026386       0.001174      0.009615   0.041030  \n",
              "2   0.048766       0.001129      0.007835  11.712632  \n",
              "3   0.023946       0.001604      0.008684   0.047777  \n",
              "4   0.040239       0.001521      0.009017  11.159634  \n",
              "5   0.033561       0.001626      0.009985  10.602201  \n",
              "6   0.065950       0.002800      0.010379   0.102548  \n",
              "7   0.056451       0.002486      0.013344   0.097355  \n",
              "8   0.048339       0.002098      0.014407   0.092970  \n",
              "9   0.061943       0.001758      0.011796  14.694676  \n",
              "10  0.092802       0.001700      0.005688  14.449299  \n",
              "11  0.076491       0.002065      0.007643  14.435901  "
            ],
            "text/html": [
              "\n",
              "  <div id=\"df-f9dcfead-c497-4ab9-9b93-71e39d9e8be6\">\n",
              "    <div class=\"colab-df-container\">\n",
              "      <div>\n",
              "<style scoped>\n",
              "    .dataframe tbody tr th:only-of-type {\n",
              "        vertical-align: middle;\n",
              "    }\n",
              "\n",
              "    .dataframe tbody tr th {\n",
              "        vertical-align: top;\n",
              "    }\n",
              "\n",
              "    .dataframe thead th {\n",
              "        text-align: right;\n",
              "    }\n",
              "</style>\n",
              "<table border=\"1\" class=\"dataframe\">\n",
              "  <thead>\n",
              "    <tr style=\"text-align: right;\">\n",
              "      <th></th>\n",
              "      <th>vectorizer</th>\n",
              "      <th>model</th>\n",
              "      <th>train_acc</th>\n",
              "      <th>test_acc</th>\n",
              "      <th>diff_acc</th>\n",
              "      <th>train_acc_std</th>\n",
              "      <th>test_acc_std</th>\n",
              "      <th>fit_time</th>\n",
              "    </tr>\n",
              "  </thead>\n",
              "  <tbody>\n",
              "    <tr>\n",
              "      <th>0</th>\n",
              "      <td>TF-IDF- [min_df: 5]</td>\n",
              "      <td>Logistic Regression</td>\n",
              "      <td>0.890456</td>\n",
              "      <td>0.859139</td>\n",
              "      <td>0.031317</td>\n",
              "      <td>0.001467</td>\n",
              "      <td>0.010040</td>\n",
              "      <td>0.047388</td>\n",
              "    </tr>\n",
              "    <tr>\n",
              "      <th>1</th>\n",
              "      <td>TF-IDF - [min_df: 10]</td>\n",
              "      <td>Logistic Regression</td>\n",
              "      <td>0.884782</td>\n",
              "      <td>0.858396</td>\n",
              "      <td>0.026386</td>\n",
              "      <td>0.001174</td>\n",
              "      <td>0.009615</td>\n",
              "      <td>0.041030</td>\n",
              "    </tr>\n",
              "    <tr>\n",
              "      <th>2</th>\n",
              "      <td>TF-IDF- [min_df: 5]</td>\n",
              "      <td>SVC - [kernel: linear]</td>\n",
              "      <td>0.904343</td>\n",
              "      <td>0.855576</td>\n",
              "      <td>0.048766</td>\n",
              "      <td>0.001129</td>\n",
              "      <td>0.007835</td>\n",
              "      <td>11.712632</td>\n",
              "    </tr>\n",
              "    <tr>\n",
              "      <th>3</th>\n",
              "      <td>TF-IDF - [min_df: 20]</td>\n",
              "      <td>Logistic Regression</td>\n",
              "      <td>0.878631</td>\n",
              "      <td>0.854685</td>\n",
              "      <td>0.023946</td>\n",
              "      <td>0.001604</td>\n",
              "      <td>0.008684</td>\n",
              "      <td>0.047777</td>\n",
              "    </tr>\n",
              "    <tr>\n",
              "      <th>4</th>\n",
              "      <td>TF-IDF - [min_df: 10]</td>\n",
              "      <td>SVC - [kernel: linear]</td>\n",
              "      <td>0.893886</td>\n",
              "      <td>0.853647</td>\n",
              "      <td>0.040239</td>\n",
              "      <td>0.001521</td>\n",
              "      <td>0.009017</td>\n",
              "      <td>11.159634</td>\n",
              "    </tr>\n",
              "    <tr>\n",
              "      <th>5</th>\n",
              "      <td>TF-IDF - [min_df: 20]</td>\n",
              "      <td>SVC - [kernel: linear]</td>\n",
              "      <td>0.885871</td>\n",
              "      <td>0.852310</td>\n",
              "      <td>0.033561</td>\n",
              "      <td>0.001626</td>\n",
              "      <td>0.009985</td>\n",
              "      <td>10.602201</td>\n",
              "    </tr>\n",
              "    <tr>\n",
              "      <th>6</th>\n",
              "      <td>Bag of Words - [min_df: 5]</td>\n",
              "      <td>Logistic Regression</td>\n",
              "      <td>0.917075</td>\n",
              "      <td>0.851125</td>\n",
              "      <td>0.065950</td>\n",
              "      <td>0.002800</td>\n",
              "      <td>0.010379</td>\n",
              "      <td>0.102548</td>\n",
              "    </tr>\n",
              "    <tr>\n",
              "      <th>7</th>\n",
              "      <td>Bag of Words - [min_df: 10]</td>\n",
              "      <td>Logistic Regression</td>\n",
              "      <td>0.903567</td>\n",
              "      <td>0.847116</td>\n",
              "      <td>0.056451</td>\n",
              "      <td>0.002486</td>\n",
              "      <td>0.013344</td>\n",
              "      <td>0.097355</td>\n",
              "    </tr>\n",
              "    <tr>\n",
              "      <th>8</th>\n",
              "      <td>Bag of Words - [min_df: 20]</td>\n",
              "      <td>Logistic Regression</td>\n",
              "      <td>0.892188</td>\n",
              "      <td>0.843849</td>\n",
              "      <td>0.048339</td>\n",
              "      <td>0.002098</td>\n",
              "      <td>0.014407</td>\n",
              "      <td>0.092970</td>\n",
              "    </tr>\n",
              "    <tr>\n",
              "      <th>9</th>\n",
              "      <td>Bag of Words - [min_df: 20]</td>\n",
              "      <td>SVC - [kernel: linear]</td>\n",
              "      <td>0.899708</td>\n",
              "      <td>0.837765</td>\n",
              "      <td>0.061943</td>\n",
              "      <td>0.001758</td>\n",
              "      <td>0.011796</td>\n",
              "      <td>14.694676</td>\n",
              "    </tr>\n",
              "    <tr>\n",
              "      <th>10</th>\n",
              "      <td>Bag of Words - [min_df: 5]</td>\n",
              "      <td>SVC - [kernel: linear]</td>\n",
              "      <td>0.928785</td>\n",
              "      <td>0.835983</td>\n",
              "      <td>0.092802</td>\n",
              "      <td>0.001700</td>\n",
              "      <td>0.005688</td>\n",
              "      <td>14.449299</td>\n",
              "    </tr>\n",
              "    <tr>\n",
              "      <th>11</th>\n",
              "      <td>Bag of Words - [min_df: 10]</td>\n",
              "      <td>SVC - [kernel: linear]</td>\n",
              "      <td>0.912177</td>\n",
              "      <td>0.835685</td>\n",
              "      <td>0.076491</td>\n",
              "      <td>0.002065</td>\n",
              "      <td>0.007643</td>\n",
              "      <td>14.435901</td>\n",
              "    </tr>\n",
              "  </tbody>\n",
              "</table>\n",
              "</div>\n",
              "      <button class=\"colab-df-convert\" onclick=\"convertToInteractive('df-f9dcfead-c497-4ab9-9b93-71e39d9e8be6')\"\n",
              "              title=\"Convert this dataframe to an interactive table.\"\n",
              "              style=\"display:none;\">\n",
              "        \n",
              "  <svg xmlns=\"http://www.w3.org/2000/svg\" height=\"24px\"viewBox=\"0 0 24 24\"\n",
              "       width=\"24px\">\n",
              "    <path d=\"M0 0h24v24H0V0z\" fill=\"none\"/>\n",
              "    <path d=\"M18.56 5.44l.94 2.06.94-2.06 2.06-.94-2.06-.94-.94-2.06-.94 2.06-2.06.94zm-11 1L8.5 8.5l.94-2.06 2.06-.94-2.06-.94L8.5 2.5l-.94 2.06-2.06.94zm10 10l.94 2.06.94-2.06 2.06-.94-2.06-.94-.94-2.06-.94 2.06-2.06.94z\"/><path d=\"M17.41 7.96l-1.37-1.37c-.4-.4-.92-.59-1.43-.59-.52 0-1.04.2-1.43.59L10.3 9.45l-7.72 7.72c-.78.78-.78 2.05 0 2.83L4 21.41c.39.39.9.59 1.41.59.51 0 1.02-.2 1.41-.59l7.78-7.78 2.81-2.81c.8-.78.8-2.07 0-2.86zM5.41 20L4 18.59l7.72-7.72 1.47 1.35L5.41 20z\"/>\n",
              "  </svg>\n",
              "      </button>\n",
              "      \n",
              "  <style>\n",
              "    .colab-df-container {\n",
              "      display:flex;\n",
              "      flex-wrap:wrap;\n",
              "      gap: 12px;\n",
              "    }\n",
              "\n",
              "    .colab-df-convert {\n",
              "      background-color: #E8F0FE;\n",
              "      border: none;\n",
              "      border-radius: 50%;\n",
              "      cursor: pointer;\n",
              "      display: none;\n",
              "      fill: #1967D2;\n",
              "      height: 32px;\n",
              "      padding: 0 0 0 0;\n",
              "      width: 32px;\n",
              "    }\n",
              "\n",
              "    .colab-df-convert:hover {\n",
              "      background-color: #E2EBFA;\n",
              "      box-shadow: 0px 1px 2px rgba(60, 64, 67, 0.3), 0px 1px 3px 1px rgba(60, 64, 67, 0.15);\n",
              "      fill: #174EA6;\n",
              "    }\n",
              "\n",
              "    [theme=dark] .colab-df-convert {\n",
              "      background-color: #3B4455;\n",
              "      fill: #D2E3FC;\n",
              "    }\n",
              "\n",
              "    [theme=dark] .colab-df-convert:hover {\n",
              "      background-color: #434B5C;\n",
              "      box-shadow: 0px 1px 3px 1px rgba(0, 0, 0, 0.15);\n",
              "      filter: drop-shadow(0px 1px 2px rgba(0, 0, 0, 0.3));\n",
              "      fill: #FFFFFF;\n",
              "    }\n",
              "  </style>\n",
              "\n",
              "      <script>\n",
              "        const buttonEl =\n",
              "          document.querySelector('#df-f9dcfead-c497-4ab9-9b93-71e39d9e8be6 button.colab-df-convert');\n",
              "        buttonEl.style.display =\n",
              "          google.colab.kernel.accessAllowed ? 'block' : 'none';\n",
              "\n",
              "        async function convertToInteractive(key) {\n",
              "          const element = document.querySelector('#df-f9dcfead-c497-4ab9-9b93-71e39d9e8be6');\n",
              "          const dataTable =\n",
              "            await google.colab.kernel.invokeFunction('convertToInteractive',\n",
              "                                                     [key], {});\n",
              "          if (!dataTable) return;\n",
              "\n",
              "          const docLinkHtml = 'Like what you see? Visit the ' +\n",
              "            '<a target=\"_blank\" href=https://colab.research.google.com/notebooks/data_table.ipynb>data table notebook</a>'\n",
              "            + ' to learn more about interactive tables.';\n",
              "          element.innerHTML = '';\n",
              "          dataTable['output_type'] = 'display_data';\n",
              "          await google.colab.output.renderOutput(dataTable, element);\n",
              "          const docLink = document.createElement('div');\n",
              "          docLink.innerHTML = docLinkHtml;\n",
              "          element.appendChild(docLink);\n",
              "        }\n",
              "      </script>\n",
              "    </div>\n",
              "  </div>\n",
              "  "
            ]
          },
          "metadata": {},
          "execution_count": 14
        }
      ],
      "metadata": {
        "id": "r9WGYtQF8Qwv",
        "outputId": "6ca39a0a-bc85-4e79-b057-c42da745519b",
        "colab": {
          "base_uri": "https://localhost:8080/",
          "height": 738
        }
      }
    },
    {
      "cell_type": "markdown",
      "source": [
        "> **Nhận xét**:\n",
        "> * Ta thấy 5 model đầu tiên có `train_acc` và `test_acc` cao và không chênh lệch nhiều\n",
        "> * Ở các model này, vectorizer phổ biến là TF-IDF có `min_df=5`."
      ],
      "metadata": {
        "id": "hjiV9jbB8Qwx"
      }
    },
    {
      "cell_type": "markdown",
      "source": [
        "Bây giờ, ta sẽ đào tạo lại các model trên toàn bộ training data và load dữ liệu test data lên để tiến hành kiểm thử."
      ],
      "metadata": {
        "id": "dHtwg20O8Qw0"
      }
    },
    {
      "cell_type": "code",
      "execution_count": 15,
      "source": [
        "X_test, y_test = Model.loadData(\"/content/drive/MyDrive/shopee/test\")\n",
        "\n",
        "tfidf_test_comment = vectorizers[1][1][0].transform(X_test['normalize_comment'])"
      ],
      "outputs": [],
      "metadata": {
        "id": "0I3oJXCc8Qw3"
      }
    },
    {
      "cell_type": "code",
      "execution_count": 16,
      "source": [
        "best_models = Model.evaluation(lst_models, vectorizers[1][1][1], y_train, tfidf_test_comment, y_test)\n",
        "\n",
        "best_models"
      ],
      "outputs": [
        {
          "output_type": "execute_result",
          "data": {
            "text/plain": [
              "                    model  train_acc  test_acc\n",
              "0  SVC - [kernel: linear]   0.904705  0.852819\n",
              "1     Logistic Regression   0.890159  0.851039"
            ],
            "text/html": [
              "\n",
              "  <div id=\"df-4133ab4e-70b1-473a-9803-6de838e1c202\">\n",
              "    <div class=\"colab-df-container\">\n",
              "      <div>\n",
              "<style scoped>\n",
              "    .dataframe tbody tr th:only-of-type {\n",
              "        vertical-align: middle;\n",
              "    }\n",
              "\n",
              "    .dataframe tbody tr th {\n",
              "        vertical-align: top;\n",
              "    }\n",
              "\n",
              "    .dataframe thead th {\n",
              "        text-align: right;\n",
              "    }\n",
              "</style>\n",
              "<table border=\"1\" class=\"dataframe\">\n",
              "  <thead>\n",
              "    <tr style=\"text-align: right;\">\n",
              "      <th></th>\n",
              "      <th>model</th>\n",
              "      <th>train_acc</th>\n",
              "      <th>test_acc</th>\n",
              "    </tr>\n",
              "  </thead>\n",
              "  <tbody>\n",
              "    <tr>\n",
              "      <th>0</th>\n",
              "      <td>SVC - [kernel: linear]</td>\n",
              "      <td>0.904705</td>\n",
              "      <td>0.852819</td>\n",
              "    </tr>\n",
              "    <tr>\n",
              "      <th>1</th>\n",
              "      <td>Logistic Regression</td>\n",
              "      <td>0.890159</td>\n",
              "      <td>0.851039</td>\n",
              "    </tr>\n",
              "  </tbody>\n",
              "</table>\n",
              "</div>\n",
              "      <button class=\"colab-df-convert\" onclick=\"convertToInteractive('df-4133ab4e-70b1-473a-9803-6de838e1c202')\"\n",
              "              title=\"Convert this dataframe to an interactive table.\"\n",
              "              style=\"display:none;\">\n",
              "        \n",
              "  <svg xmlns=\"http://www.w3.org/2000/svg\" height=\"24px\"viewBox=\"0 0 24 24\"\n",
              "       width=\"24px\">\n",
              "    <path d=\"M0 0h24v24H0V0z\" fill=\"none\"/>\n",
              "    <path d=\"M18.56 5.44l.94 2.06.94-2.06 2.06-.94-2.06-.94-.94-2.06-.94 2.06-2.06.94zm-11 1L8.5 8.5l.94-2.06 2.06-.94-2.06-.94L8.5 2.5l-.94 2.06-2.06.94zm10 10l.94 2.06.94-2.06 2.06-.94-2.06-.94-.94-2.06-.94 2.06-2.06.94z\"/><path d=\"M17.41 7.96l-1.37-1.37c-.4-.4-.92-.59-1.43-.59-.52 0-1.04.2-1.43.59L10.3 9.45l-7.72 7.72c-.78.78-.78 2.05 0 2.83L4 21.41c.39.39.9.59 1.41.59.51 0 1.02-.2 1.41-.59l7.78-7.78 2.81-2.81c.8-.78.8-2.07 0-2.86zM5.41 20L4 18.59l7.72-7.72 1.47 1.35L5.41 20z\"/>\n",
              "  </svg>\n",
              "      </button>\n",
              "      \n",
              "  <style>\n",
              "    .colab-df-container {\n",
              "      display:flex;\n",
              "      flex-wrap:wrap;\n",
              "      gap: 12px;\n",
              "    }\n",
              "\n",
              "    .colab-df-convert {\n",
              "      background-color: #E8F0FE;\n",
              "      border: none;\n",
              "      border-radius: 50%;\n",
              "      cursor: pointer;\n",
              "      display: none;\n",
              "      fill: #1967D2;\n",
              "      height: 32px;\n",
              "      padding: 0 0 0 0;\n",
              "      width: 32px;\n",
              "    }\n",
              "\n",
              "    .colab-df-convert:hover {\n",
              "      background-color: #E2EBFA;\n",
              "      box-shadow: 0px 1px 2px rgba(60, 64, 67, 0.3), 0px 1px 3px 1px rgba(60, 64, 67, 0.15);\n",
              "      fill: #174EA6;\n",
              "    }\n",
              "\n",
              "    [theme=dark] .colab-df-convert {\n",
              "      background-color: #3B4455;\n",
              "      fill: #D2E3FC;\n",
              "    }\n",
              "\n",
              "    [theme=dark] .colab-df-convert:hover {\n",
              "      background-color: #434B5C;\n",
              "      box-shadow: 0px 1px 3px 1px rgba(0, 0, 0, 0.15);\n",
              "      filter: drop-shadow(0px 1px 2px rgba(0, 0, 0, 0.3));\n",
              "      fill: #FFFFFF;\n",
              "    }\n",
              "  </style>\n",
              "\n",
              "      <script>\n",
              "        const buttonEl =\n",
              "          document.querySelector('#df-4133ab4e-70b1-473a-9803-6de838e1c202 button.colab-df-convert');\n",
              "        buttonEl.style.display =\n",
              "          google.colab.kernel.accessAllowed ? 'block' : 'none';\n",
              "\n",
              "        async function convertToInteractive(key) {\n",
              "          const element = document.querySelector('#df-4133ab4e-70b1-473a-9803-6de838e1c202');\n",
              "          const dataTable =\n",
              "            await google.colab.kernel.invokeFunction('convertToInteractive',\n",
              "                                                     [key], {});\n",
              "          if (!dataTable) return;\n",
              "\n",
              "          const docLinkHtml = 'Like what you see? Visit the ' +\n",
              "            '<a target=\"_blank\" href=https://colab.research.google.com/notebooks/data_table.ipynb>data table notebook</a>'\n",
              "            + ' to learn more about interactive tables.';\n",
              "          element.innerHTML = '';\n",
              "          dataTable['output_type'] = 'display_data';\n",
              "          await google.colab.output.renderOutput(dataTable, element);\n",
              "          const docLink = document.createElement('div');\n",
              "          docLink.innerHTML = docLinkHtml;\n",
              "          element.appendChild(docLink);\n",
              "        }\n",
              "      </script>\n",
              "    </div>\n",
              "  </div>\n",
              "  "
            ]
          },
          "metadata": {},
          "execution_count": 16
        }
      ],
      "metadata": {
        "id": "jg6tOvjB8Qw3",
        "outputId": "fd0d14a4-4ed2-49fd-c138-a983e446c130",
        "colab": {
          "base_uri": "https://localhost:8080/",
          "height": 112
        }
      }
    },
    {
      "cell_type": "markdown",
      "source": [
        "> **Nhận xét**:\n",
        "> * Có thể thấy các model hoạt động ổn định tuy nhiên chênh lệch không lớn giữa cả hai. "
      ],
      "metadata": {
        "id": "LAB09mIg8Qw4"
      }
    },
    {
      "cell_type": "markdown",
      "source": [
        "Bây giờ ta sẽ lưu các model này cùng vectorizer TF-IDF `min_df=5` vào cùng một `SentimentModel`."
      ],
      "metadata": {
        "id": "QsEuhseo8Qw5"
      }
    },
    {
      "cell_type": "code",
      "execution_count": 17,
      "source": [
        "logistic_model = Model.SentimentModel(lst_models[0][1], vectorizers[1], y_train)\n",
        "svc_model = Model.SentimentModel(lst_models[1][1], vectorizers[1], y_train)\n",
        "\n",
        "\n",
        "print(logistic_model.info())\n",
        "print(svc_model.info())"
      ],
      "outputs": [
        {
          "output_type": "stream",
          "name": "stdout",
          "text": [
            "LogisticRegression()\n",
            "None\n",
            "SVC(kernel='linear', probability=True, random_state=42)\n",
            "None\n"
          ]
        }
      ],
      "metadata": {
        "id": "VZd6OKQO8Qw5",
        "outputId": "7d9cbac1-b4bd-4112-e18c-e7188e2f4213",
        "colab": {
          "base_uri": "https://localhost:8080/"
        }
      }
    },
    {
      "cell_type": "markdown",
      "source": [
        "Tiếp theo, ta sẽ đánh giá các model trên test data và training data và thực hiện trực quan hóa kết quả đánh giá."
      ],
      "metadata": {
        "id": "T9LGhJwZ8Qw6"
      }
    },
    {
      "cell_type": "code",
      "execution_count": 18,
      "source": [
        "# Logistic model\n",
        "y_train_pred = logistic_model.predict(X_train['normalize_comment'])\n",
        "y_test_pred = logistic_model.predict(X_test['normalize_comment'])\n",
        "\n",
        "Model.confusionMatrix(y_train, y_train_pred['output_class'])\n",
        "Model.confusionMatrix(y_test, y_test_pred['output_class'])\n",
        "\n",
        "display(y_train_pred.head(), y_test_pred.head())"
      ],
      "outputs": [
        {
          "output_type": "stream",
          "name": "stdout",
          "text": [
            "              precision    recall  f1-score   support\n",
            "\n",
            "    Negative       0.89      0.89      0.89      3358\n",
            "    Positive       0.89      0.89      0.89      3379\n",
            "\n",
            "    accuracy                           0.89      6737\n",
            "   macro avg       0.89      0.89      0.89      6737\n",
            "weighted avg       0.89      0.89      0.89      6737\n",
            "\n"
          ]
        },
        {
          "output_type": "display_data",
          "data": {
            "text/plain": [
              "<Figure size 432x288 with 2 Axes>"
            ],
            "image/png": "[encoded data removed]"
          },
          "metadata": {
            "needs_background": "light"
          }
        },
        {
          "output_type": "stream",
          "name": "stdout",
          "text": [
            "              precision    recall  f1-score   support\n",
            "\n",
            "    Negative       0.85      0.85      0.85       853\n",
            "    Positive       0.85      0.85      0.85       832\n",
            "\n",
            "    accuracy                           0.85      1685\n",
            "   macro avg       0.85      0.85      0.85      1685\n",
            "weighted avg       0.85      0.85      0.85      1685\n",
            "\n"
          ]
        },
        {
          "output_type": "display_data",
          "data": {
            "text/plain": [
              "<Figure size 432x288 with 2 Axes>"
            ],
            "image/png": "[encoded data removed]"
          },
          "metadata": {
            "needs_background": "light"
          }
        },
        {
          "output_type": "display_data",
          "data": {
            "text/plain": [
              "                                               input  \\\n",
              "0  chất gel đặc bọt tan rất lâu lưu bọt khá lâu h...   \n",
              "1  hàng đóng không được đẹp mùi hơi hắc nhưng cũn...   \n",
              "2  lọ sửa rửa mặt lép_kẹp như dùng nắp lọ không c...   \n",
              "3  sản_phẩm ok giao hàng nhanh nhưng chuẩn hơi lâ...   \n",
              "4                                            đểu quá   \n",
              "\n",
              "                                 output_proba  output_class  \n",
              "0    (0.6259896009145938, 0.3740103990854062)             0  \n",
              "1    (0.8426643779972195, 0.1573356220027805)             0  \n",
              "2  (0.9645199558435118, 0.035480044156488186)             0  \n",
              "3  (0.027050041505480737, 0.9729499584945193)             1  \n",
              "4   (0.7524807508460098, 0.24751924915399015)             0  "
            ],
            "text/html": [
              "\n",
              "  <div id=\"df-9667951a-4a9d-45e7-9c89-96832d06b8cf\">\n",
              "    <div class=\"colab-df-container\">\n",
              "      <div>\n",
              "<style scoped>\n",
              "    .dataframe tbody tr th:only-of-type {\n",
              "        vertical-align: middle;\n",
              "    }\n",
              "\n",
              "    .dataframe tbody tr th {\n",
              "        vertical-align: top;\n",
              "    }\n",
              "\n",
              "    .dataframe thead th {\n",
              "        text-align: right;\n",
              "    }\n",
              "</style>\n",
              "<table border=\"1\" class=\"dataframe\">\n",
              "  <thead>\n",
              "    <tr style=\"text-align: right;\">\n",
              "      <th></th>\n",
              "      <th>input</th>\n",
              "      <th>output_proba</th>\n",
              "      <th>output_class</th>\n",
              "    </tr>\n",
              "  </thead>\n",
              "  <tbody>\n",
              "    <tr>\n",
              "      <th>0</th>\n",
              "      <td>chất gel đặc bọt tan rất lâu lưu bọt khá lâu h...</td>\n",
              "      <td>(0.6259896009145938, 0.3740103990854062)</td>\n",
              "      <td>0</td>\n",
              "    </tr>\n",
              "    <tr>\n",
              "      <th>1</th>\n",
              "      <td>hàng đóng không được đẹp mùi hơi hắc nhưng cũn...</td>\n",
              "      <td>(0.8426643779972195, 0.1573356220027805)</td>\n",
              "      <td>0</td>\n",
              "    </tr>\n",
              "    <tr>\n",
              "      <th>2</th>\n",
              "      <td>lọ sửa rửa mặt lép_kẹp như dùng nắp lọ không c...</td>\n",
              "      <td>(0.9645199558435118, 0.035480044156488186)</td>\n",
              "      <td>0</td>\n",
              "    </tr>\n",
              "    <tr>\n",
              "      <th>3</th>\n",
              "      <td>sản_phẩm ok giao hàng nhanh nhưng chuẩn hơi lâ...</td>\n",
              "      <td>(0.027050041505480737, 0.9729499584945193)</td>\n",
              "      <td>1</td>\n",
              "    </tr>\n",
              "    <tr>\n",
              "      <th>4</th>\n",
              "      <td>đểu quá</td>\n",
              "      <td>(0.7524807508460098, 0.24751924915399015)</td>\n",
              "      <td>0</td>\n",
              "    </tr>\n",
              "  </tbody>\n",
              "</table>\n",
              "</div>\n",
              "      <button class=\"colab-df-convert\" onclick=\"convertToInteractive('df-9667951a-4a9d-45e7-9c89-96832d06b8cf')\"\n",
              "              title=\"Convert this dataframe to an interactive table.\"\n",
              "              style=\"display:none;\">\n",
              "        \n",
              "  <svg xmlns=\"http://www.w3.org/2000/svg\" height=\"24px\"viewBox=\"0 0 24 24\"\n",
              "       width=\"24px\">\n",
              "    <path d=\"M0 0h24v24H0V0z\" fill=\"none\"/>\n",
              "    <path d=\"M18.56 5.44l.94 2.06.94-2.06 2.06-.94-2.06-.94-.94-2.06-.94 2.06-2.06.94zm-11 1L8.5 8.5l.94-2.06 2.06-.94-2.06-.94L8.5 2.5l-.94 2.06-2.06.94zm10 10l.94 2.06.94-2.06 2.06-.94-2.06-.94-.94-2.06-.94 2.06-2.06.94z\"/><path d=\"M17.41 7.96l-1.37-1.37c-.4-.4-.92-.59-1.43-.59-.52 0-1.04.2-1.43.59L10.3 9.45l-7.72 7.72c-.78.78-.78 2.05 0 2.83L4 21.41c.39.39.9.59 1.41.59.51 0 1.02-.2 1.41-.59l7.78-7.78 2.81-2.81c.8-.78.8-2.07 0-2.86zM5.41 20L4 18.59l7.72-7.72 1.47 1.35L5.41 20z\"/>\n",
              "  </svg>\n",
              "      </button>\n",
              "      \n",
              "  <style>\n",
              "    .colab-df-container {\n",
              "      display:flex;\n",
              "      flex-wrap:wrap;\n",
              "      gap: 12px;\n",
              "    }\n",
              "\n",
              "    .colab-df-convert {\n",
              "      background-color: #E8F0FE;\n",
              "      border: none;\n",
              "      border-radius: 50%;\n",
              "      cursor: pointer;\n",
              "      display: none;\n",
              "      fill: #1967D2;\n",
              "      height: 32px;\n",
              "      padding: 0 0 0 0;\n",
              "      width: 32px;\n",
              "    }\n",
              "\n",
              "    .colab-df-convert:hover {\n",
              "      background-color: #E2EBFA;\n",
              "      box-shadow: 0px 1px 2px rgba(60, 64, 67, 0.3), 0px 1px 3px 1px rgba(60, 64, 67, 0.15);\n",
              "      fill: #174EA6;\n",
              "    }\n",
              "\n",
              "    [theme=dark] .colab-df-convert {\n",
              "      background-color: #3B4455;\n",
              "      fill: #D2E3FC;\n",
              "    }\n",
              "\n",
              "    [theme=dark] .colab-df-convert:hover {\n",
              "      background-color: #434B5C;\n",
              "      box-shadow: 0px 1px 3px 1px rgba(0, 0, 0, 0.15);\n",
              "      filter: drop-shadow(0px 1px 2px rgba(0, 0, 0, 0.3));\n",
              "      fill: #FFFFFF;\n",
              "    }\n",
              "  </style>\n",
              "\n",
              "      <script>\n",
              "        const buttonEl =\n",
              "          document.querySelector('#df-9667951a-4a9d-45e7-9c89-96832d06b8cf button.colab-df-convert');\n",
              "        buttonEl.style.display =\n",
              "          google.colab.kernel.accessAllowed ? 'block' : 'none';\n",
              "\n",
              "        async function convertToInteractive(key) {\n",
              "          const element = document.querySelector('#df-9667951a-4a9d-45e7-9c89-96832d06b8cf');\n",
              "          const dataTable =\n",
              "            await google.colab.kernel.invokeFunction('convertToInteractive',\n",
              "                                                     [key], {});\n",
              "          if (!dataTable) return;\n",
              "\n",
              "          const docLinkHtml = 'Like what you see? Visit the ' +\n",
              "            '<a target=\"_blank\" href=https://colab.research.google.com/notebooks/data_table.ipynb>data table notebook</a>'\n",
              "            + ' to learn more about interactive tables.';\n",
              "          element.innerHTML = '';\n",
              "          dataTable['output_type'] = 'display_data';\n",
              "          await google.colab.output.renderOutput(dataTable, element);\n",
              "          const docLink = document.createElement('div');\n",
              "          docLink.innerHTML = docLinkHtml;\n",
              "          element.appendChild(docLink);\n",
              "        }\n",
              "      </script>\n",
              "    </div>\n",
              "  </div>\n",
              "  "
            ]
          },
          "metadata": {}
        },
        {
          "output_type": "display_data",
          "data": {
            "text/plain": [
              "                                               input  \\\n",
              "0                                sản_phẩm tốt giá ok   \n",
              "1  kết_cấu típ công_dụng rữa mặt mùi hương hơi hô...   \n",
              "2  phục_vụ tốt giao thiếu món nhưng bù cho khá hà...   \n",
              "3  dùng ngày mới quay đánh_giá sản_phẩm_cấp ẩm cự...   \n",
              "4              hàng tốt giao hàng nhanh lắm must try   \n",
              "\n",
              "                                 output_proba  output_class  \n",
              "0   (0.02808883726787692, 0.9719111627321231)             1  \n",
              "1   (0.7457557360981663, 0.25424426390183374)             0  \n",
              "2    (0.6483816834177699, 0.3516183165822301)             0  \n",
              "3   (0.02367545896351919, 0.9763245410364808)             1  \n",
              "4  (0.031611042405654266, 0.9683889575943457)             1  "
            ],
            "text/html": [
              "\n",
              "  <div id=\"df-eb3f913d-9997-4c57-a5d8-eea5a7405c6e\">\n",
              "    <div class=\"colab-df-container\">\n",
              "      <div>\n",
              "<style scoped>\n",
              "    .dataframe tbody tr th:only-of-type {\n",
              "        vertical-align: middle;\n",
              "    }\n",
              "\n",
              "    .dataframe tbody tr th {\n",
              "        vertical-align: top;\n",
              "    }\n",
              "\n",
              "    .dataframe thead th {\n",
              "        text-align: right;\n",
              "    }\n",
              "</style>\n",
              "<table border=\"1\" class=\"dataframe\">\n",
              "  <thead>\n",
              "    <tr style=\"text-align: right;\">\n",
              "      <th></th>\n",
              "      <th>input</th>\n",
              "      <th>output_proba</th>\n",
              "      <th>output_class</th>\n",
              "    </tr>\n",
              "  </thead>\n",
              "  <tbody>\n",
              "    <tr>\n",
              "      <th>0</th>\n",
              "      <td>sản_phẩm tốt giá ok</td>\n",
              "      <td>(0.02808883726787692, 0.9719111627321231)</td>\n",
              "      <td>1</td>\n",
              "    </tr>\n",
              "    <tr>\n",
              "      <th>1</th>\n",
              "      <td>kết_cấu típ công_dụng rữa mặt mùi hương hơi hô...</td>\n",
              "      <td>(0.7457557360981663, 0.25424426390183374)</td>\n",
              "      <td>0</td>\n",
              "    </tr>\n",
              "    <tr>\n",
              "      <th>2</th>\n",
              "      <td>phục_vụ tốt giao thiếu món nhưng bù cho khá hà...</td>\n",
              "      <td>(0.6483816834177699, 0.3516183165822301)</td>\n",
              "      <td>0</td>\n",
              "    </tr>\n",
              "    <tr>\n",
              "      <th>3</th>\n",
              "      <td>dùng ngày mới quay đánh_giá sản_phẩm_cấp ẩm cự...</td>\n",
              "      <td>(0.02367545896351919, 0.9763245410364808)</td>\n",
              "      <td>1</td>\n",
              "    </tr>\n",
              "    <tr>\n",
              "      <th>4</th>\n",
              "      <td>hàng tốt giao hàng nhanh lắm must try</td>\n",
              "      <td>(0.031611042405654266, 0.9683889575943457)</td>\n",
              "      <td>1</td>\n",
              "    </tr>\n",
              "  </tbody>\n",
              "</table>\n",
              "</div>\n",
              "      <button class=\"colab-df-convert\" onclick=\"convertToInteractive('df-eb3f913d-9997-4c57-a5d8-eea5a7405c6e')\"\n",
              "              title=\"Convert this dataframe to an interactive table.\"\n",
              "              style=\"display:none;\">\n",
              "        \n",
              "  <svg xmlns=\"http://www.w3.org/2000/svg\" height=\"24px\"viewBox=\"0 0 24 24\"\n",
              "       width=\"24px\">\n",
              "    <path d=\"M0 0h24v24H0V0z\" fill=\"none\"/>\n",
              "    <path d=\"M18.56 5.44l.94 2.06.94-2.06 2.06-.94-2.06-.94-.94-2.06-.94 2.06-2.06.94zm-11 1L8.5 8.5l.94-2.06 2.06-.94-2.06-.94L8.5 2.5l-.94 2.06-2.06.94zm10 10l.94 2.06.94-2.06 2.06-.94-2.06-.94-.94-2.06-.94 2.06-2.06.94z\"/><path d=\"M17.41 7.96l-1.37-1.37c-.4-.4-.92-.59-1.43-.59-.52 0-1.04.2-1.43.59L10.3 9.45l-7.72 7.72c-.78.78-.78 2.05 0 2.83L4 21.41c.39.39.9.59 1.41.59.51 0 1.02-.2 1.41-.59l7.78-7.78 2.81-2.81c.8-.78.8-2.07 0-2.86zM5.41 20L4 18.59l7.72-7.72 1.47 1.35L5.41 20z\"/>\n",
              "  </svg>\n",
              "      </button>\n",
              "      \n",
              "  <style>\n",
              "    .colab-df-container {\n",
              "      display:flex;\n",
              "      flex-wrap:wrap;\n",
              "      gap: 12px;\n",
              "    }\n",
              "\n",
              "    .colab-df-convert {\n",
              "      background-color: #E8F0FE;\n",
              "      border: none;\n",
              "      border-radius: 50%;\n",
              "      cursor: pointer;\n",
              "      display: none;\n",
              "      fill: #1967D2;\n",
              "      height: 32px;\n",
              "      padding: 0 0 0 0;\n",
              "      width: 32px;\n",
              "    }\n",
              "\n",
              "    .colab-df-convert:hover {\n",
              "      background-color: #E2EBFA;\n",
              "      box-shadow: 0px 1px 2px rgba(60, 64, 67, 0.3), 0px 1px 3px 1px rgba(60, 64, 67, 0.15);\n",
              "      fill: #174EA6;\n",
              "    }\n",
              "\n",
              "    [theme=dark] .colab-df-convert {\n",
              "      background-color: #3B4455;\n",
              "      fill: #D2E3FC;\n",
              "    }\n",
              "\n",
              "    [theme=dark] .colab-df-convert:hover {\n",
              "      background-color: #434B5C;\n",
              "      box-shadow: 0px 1px 3px 1px rgba(0, 0, 0, 0.15);\n",
              "      filter: drop-shadow(0px 1px 2px rgba(0, 0, 0, 0.3));\n",
              "      fill: #FFFFFF;\n",
              "    }\n",
              "  </style>\n",
              "\n",
              "      <script>\n",
              "        const buttonEl =\n",
              "          document.querySelector('#df-eb3f913d-9997-4c57-a5d8-eea5a7405c6e button.colab-df-convert');\n",
              "        buttonEl.style.display =\n",
              "          google.colab.kernel.accessAllowed ? 'block' : 'none';\n",
              "\n",
              "        async function convertToInteractive(key) {\n",
              "          const element = document.querySelector('#df-eb3f913d-9997-4c57-a5d8-eea5a7405c6e');\n",
              "          const dataTable =\n",
              "            await google.colab.kernel.invokeFunction('convertToInteractive',\n",
              "                                                     [key], {});\n",
              "          if (!dataTable) return;\n",
              "\n",
              "          const docLinkHtml = 'Like what you see? Visit the ' +\n",
              "            '<a target=\"_blank\" href=https://colab.research.google.com/notebooks/data_table.ipynb>data table notebook</a>'\n",
              "            + ' to learn more about interactive tables.';\n",
              "          element.innerHTML = '';\n",
              "          dataTable['output_type'] = 'display_data';\n",
              "          await google.colab.output.renderOutput(dataTable, element);\n",
              "          const docLink = document.createElement('div');\n",
              "          docLink.innerHTML = docLinkHtml;\n",
              "          element.appendChild(docLink);\n",
              "        }\n",
              "      </script>\n",
              "    </div>\n",
              "  </div>\n",
              "  "
            ]
          },
          "metadata": {}
        }
      ],
      "metadata": {
        "id": "ehfIHBDm8Qw6",
        "outputId": "efe4f183-779a-48e1-8143-115faae1b9ee",
        "colab": {
          "base_uri": "https://localhost:8080/",
          "height": 1000
        }
      }
    },
    {
      "cell_type": "code",
      "execution_count": 19,
      "source": [
        "# SVC model\n",
        "y_train_pred = svc_model.predict(X_train['normalize_comment'])\n",
        "y_test_pred = svc_model.predict(X_test['normalize_comment'])\n",
        "\n",
        "Model.confusionMatrix(y_train, y_train_pred['output_class'])\n",
        "Model.confusionMatrix(y_test, y_test_pred['output_class'])\n",
        "\n",
        "display(y_train_pred.head(), y_test_pred.head())"
      ],
      "outputs": [
        {
          "output_type": "stream",
          "name": "stdout",
          "text": [
            "              precision    recall  f1-score   support\n",
            "\n",
            "    Negative       0.91      0.90      0.90      3358\n",
            "    Positive       0.90      0.91      0.91      3379\n",
            "\n",
            "    accuracy                           0.90      6737\n",
            "   macro avg       0.90      0.90      0.90      6737\n",
            "weighted avg       0.90      0.90      0.90      6737\n",
            "\n"
          ]
        },
        {
          "output_type": "display_data",
          "data": {
            "text/plain": [
              "<Figure size 432x288 with 2 Axes>"
            ],
            "image/png": "[encoded data removed]"
          },
          "metadata": {
            "needs_background": "light"
          }
        },
        {
          "output_type": "stream",
          "name": "stdout",
          "text": [
            "              precision    recall  f1-score   support\n",
            "\n",
            "    Negative       0.86      0.84      0.85       853\n",
            "    Positive       0.84      0.86      0.85       832\n",
            "\n",
            "    accuracy                           0.85      1685\n",
            "   macro avg       0.85      0.85      0.85      1685\n",
            "weighted avg       0.85      0.85      0.85      1685\n",
            "\n"
          ]
        },
        {
          "output_type": "display_data",
          "data": {
            "text/plain": [
              "<Figure size 432x288 with 2 Axes>"
            ],
            "image/png": "[encoded data removed]"
          },
          "metadata": {
            "needs_background": "light"
          }
        },
        {
          "output_type": "display_data",
          "data": {
            "text/plain": [
              "                                               input  \\\n",
              "0  chất gel đặc bọt tan rất lâu lưu bọt khá lâu h...   \n",
              "1  hàng đóng không được đẹp mùi hơi hắc nhưng cũn...   \n",
              "2  lọ sửa rửa mặt lép_kẹp như dùng nắp lọ không c...   \n",
              "3  sản_phẩm ok giao hàng nhanh nhưng chuẩn hơi lâ...   \n",
              "4                                            đểu quá   \n",
              "\n",
              "                                 output_proba  output_class  \n",
              "0    (0.8240992591366194, 0.1759007408633805)             0  \n",
              "1   (0.8804018564401097, 0.11959814355989007)             0  \n",
              "2  (0.9861501041807401, 0.013849895819259788)             0  \n",
              "3  (0.012433090994722834, 0.9875669090052772)             1  \n",
              "4   (0.8670840066340911, 0.13291599336590879)             0  "
            ],
            "text/html": [
              "\n",
              "  <div id=\"df-866eff98-154d-4b2b-a7ce-55f69b90854c\">\n",
              "    <div class=\"colab-df-container\">\n",
              "      <div>\n",
              "<style scoped>\n",
              "    .dataframe tbody tr th:only-of-type {\n",
              "        vertical-align: middle;\n",
              "    }\n",
              "\n",
              "    .dataframe tbody tr th {\n",
              "        vertical-align: top;\n",
              "    }\n",
              "\n",
              "    .dataframe thead th {\n",
              "        text-align: right;\n",
              "    }\n",
              "</style>\n",
              "<table border=\"1\" class=\"dataframe\">\n",
              "  <thead>\n",
              "    <tr style=\"text-align: right;\">\n",
              "      <th></th>\n",
              "      <th>input</th>\n",
              "      <th>output_proba</th>\n",
              "      <th>output_class</th>\n",
              "    </tr>\n",
              "  </thead>\n",
              "  <tbody>\n",
              "    <tr>\n",
              "      <th>0</th>\n",
              "      <td>chất gel đặc bọt tan rất lâu lưu bọt khá lâu h...</td>\n",
              "      <td>(0.8240992591366194, 0.1759007408633805)</td>\n",
              "      <td>0</td>\n",
              "    </tr>\n",
              "    <tr>\n",
              "      <th>1</th>\n",
              "      <td>hàng đóng không được đẹp mùi hơi hắc nhưng cũn...</td>\n",
              "      <td>(0.8804018564401097, 0.11959814355989007)</td>\n",
              "      <td>0</td>\n",
              "    </tr>\n",
              "    <tr>\n",
              "      <th>2</th>\n",
              "      <td>lọ sửa rửa mặt lép_kẹp như dùng nắp lọ không c...</td>\n",
              "      <td>(0.9861501041807401, 0.013849895819259788)</td>\n",
              "      <td>0</td>\n",
              "    </tr>\n",
              "    <tr>\n",
              "      <th>3</th>\n",
              "      <td>sản_phẩm ok giao hàng nhanh nhưng chuẩn hơi lâ...</td>\n",
              "      <td>(0.012433090994722834, 0.9875669090052772)</td>\n",
              "      <td>1</td>\n",
              "    </tr>\n",
              "    <tr>\n",
              "      <th>4</th>\n",
              "      <td>đểu quá</td>\n",
              "      <td>(0.8670840066340911, 0.13291599336590879)</td>\n",
              "      <td>0</td>\n",
              "    </tr>\n",
              "  </tbody>\n",
              "</table>\n",
              "</div>\n",
              "      <button class=\"colab-df-convert\" onclick=\"convertToInteractive('df-866eff98-154d-4b2b-a7ce-55f69b90854c')\"\n",
              "              title=\"Convert this dataframe to an interactive table.\"\n",
              "              style=\"display:none;\">\n",
              "        \n",
              "  <svg xmlns=\"http://www.w3.org/2000/svg\" height=\"24px\"viewBox=\"0 0 24 24\"\n",
              "       width=\"24px\">\n",
              "    <path d=\"M0 0h24v24H0V0z\" fill=\"none\"/>\n",
              "    <path d=\"M18.56 5.44l.94 2.06.94-2.06 2.06-.94-2.06-.94-.94-2.06-.94 2.06-2.06.94zm-11 1L8.5 8.5l.94-2.06 2.06-.94-2.06-.94L8.5 2.5l-.94 2.06-2.06.94zm10 10l.94 2.06.94-2.06 2.06-.94-2.06-.94-.94-2.06-.94 2.06-2.06.94z\"/><path d=\"M17.41 7.96l-1.37-1.37c-.4-.4-.92-.59-1.43-.59-.52 0-1.04.2-1.43.59L10.3 9.45l-7.72 7.72c-.78.78-.78 2.05 0 2.83L4 21.41c.39.39.9.59 1.41.59.51 0 1.02-.2 1.41-.59l7.78-7.78 2.81-2.81c.8-.78.8-2.07 0-2.86zM5.41 20L4 18.59l7.72-7.72 1.47 1.35L5.41 20z\"/>\n",
              "  </svg>\n",
              "      </button>\n",
              "      \n",
              "  <style>\n",
              "    .colab-df-container {\n",
              "      display:flex;\n",
              "      flex-wrap:wrap;\n",
              "      gap: 12px;\n",
              "    }\n",
              "\n",
              "    .colab-df-convert {\n",
              "      background-color: #E8F0FE;\n",
              "      border: none;\n",
              "      border-radius: 50%;\n",
              "      cursor: pointer;\n",
              "      display: none;\n",
              "      fill: #1967D2;\n",
              "      height: 32px;\n",
              "      padding: 0 0 0 0;\n",
              "      width: 32px;\n",
              "    }\n",
              "\n",
              "    .colab-df-convert:hover {\n",
              "      background-color: #E2EBFA;\n",
              "      box-shadow: 0px 1px 2px rgba(60, 64, 67, 0.3), 0px 1px 3px 1px rgba(60, 64, 67, 0.15);\n",
              "      fill: #174EA6;\n",
              "    }\n",
              "\n",
              "    [theme=dark] .colab-df-convert {\n",
              "      background-color: #3B4455;\n",
              "      fill: #D2E3FC;\n",
              "    }\n",
              "\n",
              "    [theme=dark] .colab-df-convert:hover {\n",
              "      background-color: #434B5C;\n",
              "      box-shadow: 0px 1px 3px 1px rgba(0, 0, 0, 0.15);\n",
              "      filter: drop-shadow(0px 1px 2px rgba(0, 0, 0, 0.3));\n",
              "      fill: #FFFFFF;\n",
              "    }\n",
              "  </style>\n",
              "\n",
              "      <script>\n",
              "        const buttonEl =\n",
              "          document.querySelector('#df-866eff98-154d-4b2b-a7ce-55f69b90854c button.colab-df-convert');\n",
              "        buttonEl.style.display =\n",
              "          google.colab.kernel.accessAllowed ? 'block' : 'none';\n",
              "\n",
              "        async function convertToInteractive(key) {\n",
              "          const element = document.querySelector('#df-866eff98-154d-4b2b-a7ce-55f69b90854c');\n",
              "          const dataTable =\n",
              "            await google.colab.kernel.invokeFunction('convertToInteractive',\n",
              "                                                     [key], {});\n",
              "          if (!dataTable) return;\n",
              "\n",
              "          const docLinkHtml = 'Like what you see? Visit the ' +\n",
              "            '<a target=\"_blank\" href=https://colab.research.google.com/notebooks/data_table.ipynb>data table notebook</a>'\n",
              "            + ' to learn more about interactive tables.';\n",
              "          element.innerHTML = '';\n",
              "          dataTable['output_type'] = 'display_data';\n",
              "          await google.colab.output.renderOutput(dataTable, element);\n",
              "          const docLink = document.createElement('div');\n",
              "          docLink.innerHTML = docLinkHtml;\n",
              "          element.appendChild(docLink);\n",
              "        }\n",
              "      </script>\n",
              "    </div>\n",
              "  </div>\n",
              "  "
            ]
          },
          "metadata": {}
        },
        {
          "output_type": "display_data",
          "data": {
            "text/plain": [
              "                                               input  \\\n",
              "0                                sản_phẩm tốt giá ok   \n",
              "1  kết_cấu típ công_dụng rữa mặt mùi hương hơi hô...   \n",
              "2  phục_vụ tốt giao thiếu món nhưng bù cho khá hà...   \n",
              "3  dùng ngày mới quay đánh_giá sản_phẩm_cấp ẩm cự...   \n",
              "4              hàng tốt giao hàng nhanh lắm must try   \n",
              "\n",
              "                                 output_proba  output_class  \n",
              "0  (0.024238182954362357, 0.9757618170456376)             1  \n",
              "1   (0.8162693023943742, 0.18373069760562563)             0  \n",
              "2    (0.7029759616248464, 0.2970240383751536)             0  \n",
              "3  (0.007580543735938891, 0.9924194562640609)             1  \n",
              "4  (0.022023742925972478, 0.9779762570740275)             1  "
            ],
            "text/html": [
              "\n",
              "  <div id=\"df-11fd1fd6-27e8-44f5-b9f1-ccd0e7f3ba5e\">\n",
              "    <div class=\"colab-df-container\">\n",
              "      <div>\n",
              "<style scoped>\n",
              "    .dataframe tbody tr th:only-of-type {\n",
              "        vertical-align: middle;\n",
              "    }\n",
              "\n",
              "    .dataframe tbody tr th {\n",
              "        vertical-align: top;\n",
              "    }\n",
              "\n",
              "    .dataframe thead th {\n",
              "        text-align: right;\n",
              "    }\n",
              "</style>\n",
              "<table border=\"1\" class=\"dataframe\">\n",
              "  <thead>\n",
              "    <tr style=\"text-align: right;\">\n",
              "      <th></th>\n",
              "      <th>input</th>\n",
              "      <th>output_proba</th>\n",
              "      <th>output_class</th>\n",
              "    </tr>\n",
              "  </thead>\n",
              "  <tbody>\n",
              "    <tr>\n",
              "      <th>0</th>\n",
              "      <td>sản_phẩm tốt giá ok</td>\n",
              "      <td>(0.024238182954362357, 0.9757618170456376)</td>\n",
              "      <td>1</td>\n",
              "    </tr>\n",
              "    <tr>\n",
              "      <th>1</th>\n",
              "      <td>kết_cấu típ công_dụng rữa mặt mùi hương hơi hô...</td>\n",
              "      <td>(0.8162693023943742, 0.18373069760562563)</td>\n",
              "      <td>0</td>\n",
              "    </tr>\n",
              "    <tr>\n",
              "      <th>2</th>\n",
              "      <td>phục_vụ tốt giao thiếu món nhưng bù cho khá hà...</td>\n",
              "      <td>(0.7029759616248464, 0.2970240383751536)</td>\n",
              "      <td>0</td>\n",
              "    </tr>\n",
              "    <tr>\n",
              "      <th>3</th>\n",
              "      <td>dùng ngày mới quay đánh_giá sản_phẩm_cấp ẩm cự...</td>\n",
              "      <td>(0.007580543735938891, 0.9924194562640609)</td>\n",
              "      <td>1</td>\n",
              "    </tr>\n",
              "    <tr>\n",
              "      <th>4</th>\n",
              "      <td>hàng tốt giao hàng nhanh lắm must try</td>\n",
              "      <td>(0.022023742925972478, 0.9779762570740275)</td>\n",
              "      <td>1</td>\n",
              "    </tr>\n",
              "  </tbody>\n",
              "</table>\n",
              "</div>\n",
              "      <button class=\"colab-df-convert\" onclick=\"convertToInteractive('df-11fd1fd6-27e8-44f5-b9f1-ccd0e7f3ba5e')\"\n",
              "              title=\"Convert this dataframe to an interactive table.\"\n",
              "              style=\"display:none;\">\n",
              "        \n",
              "  <svg xmlns=\"http://www.w3.org/2000/svg\" height=\"24px\"viewBox=\"0 0 24 24\"\n",
              "       width=\"24px\">\n",
              "    <path d=\"M0 0h24v24H0V0z\" fill=\"none\"/>\n",
              "    <path d=\"M18.56 5.44l.94 2.06.94-2.06 2.06-.94-2.06-.94-.94-2.06-.94 2.06-2.06.94zm-11 1L8.5 8.5l.94-2.06 2.06-.94-2.06-.94L8.5 2.5l-.94 2.06-2.06.94zm10 10l.94 2.06.94-2.06 2.06-.94-2.06-.94-.94-2.06-.94 2.06-2.06.94z\"/><path d=\"M17.41 7.96l-1.37-1.37c-.4-.4-.92-.59-1.43-.59-.52 0-1.04.2-1.43.59L10.3 9.45l-7.72 7.72c-.78.78-.78 2.05 0 2.83L4 21.41c.39.39.9.59 1.41.59.51 0 1.02-.2 1.41-.59l7.78-7.78 2.81-2.81c.8-.78.8-2.07 0-2.86zM5.41 20L4 18.59l7.72-7.72 1.47 1.35L5.41 20z\"/>\n",
              "  </svg>\n",
              "      </button>\n",
              "      \n",
              "  <style>\n",
              "    .colab-df-container {\n",
              "      display:flex;\n",
              "      flex-wrap:wrap;\n",
              "      gap: 12px;\n",
              "    }\n",
              "\n",
              "    .colab-df-convert {\n",
              "      background-color: #E8F0FE;\n",
              "      border: none;\n",
              "      border-radius: 50%;\n",
              "      cursor: pointer;\n",
              "      display: none;\n",
              "      fill: #1967D2;\n",
              "      height: 32px;\n",
              "      padding: 0 0 0 0;\n",
              "      width: 32px;\n",
              "    }\n",
              "\n",
              "    .colab-df-convert:hover {\n",
              "      background-color: #E2EBFA;\n",
              "      box-shadow: 0px 1px 2px rgba(60, 64, 67, 0.3), 0px 1px 3px 1px rgba(60, 64, 67, 0.15);\n",
              "      fill: #174EA6;\n",
              "    }\n",
              "\n",
              "    [theme=dark] .colab-df-convert {\n",
              "      background-color: #3B4455;\n",
              "      fill: #D2E3FC;\n",
              "    }\n",
              "\n",
              "    [theme=dark] .colab-df-convert:hover {\n",
              "      background-color: #434B5C;\n",
              "      box-shadow: 0px 1px 3px 1px rgba(0, 0, 0, 0.15);\n",
              "      filter: drop-shadow(0px 1px 2px rgba(0, 0, 0, 0.3));\n",
              "      fill: #FFFFFF;\n",
              "    }\n",
              "  </style>\n",
              "\n",
              "      <script>\n",
              "        const buttonEl =\n",
              "          document.querySelector('#df-11fd1fd6-27e8-44f5-b9f1-ccd0e7f3ba5e button.colab-df-convert');\n",
              "        buttonEl.style.display =\n",
              "          google.colab.kernel.accessAllowed ? 'block' : 'none';\n",
              "\n",
              "        async function convertToInteractive(key) {\n",
              "          const element = document.querySelector('#df-11fd1fd6-27e8-44f5-b9f1-ccd0e7f3ba5e');\n",
              "          const dataTable =\n",
              "            await google.colab.kernel.invokeFunction('convertToInteractive',\n",
              "                                                     [key], {});\n",
              "          if (!dataTable) return;\n",
              "\n",
              "          const docLinkHtml = 'Like what you see? Visit the ' +\n",
              "            '<a target=\"_blank\" href=https://colab.research.google.com/notebooks/data_table.ipynb>data table notebook</a>'\n",
              "            + ' to learn more about interactive tables.';\n",
              "          element.innerHTML = '';\n",
              "          dataTable['output_type'] = 'display_data';\n",
              "          await google.colab.output.renderOutput(dataTable, element);\n",
              "          const docLink = document.createElement('div');\n",
              "          docLink.innerHTML = docLinkHtml;\n",
              "          element.appendChild(docLink);\n",
              "        }\n",
              "      </script>\n",
              "    </div>\n",
              "  </div>\n",
              "  "
            ]
          },
          "metadata": {}
        }
      ],
      "metadata": {
        "id": "CduaqI8W8Qw8",
        "outputId": "63d17db4-af90-419b-e10d-9413668f562b",
        "colab": {
          "base_uri": "https://localhost:8080/",
          "height": 1000
        }
      }
    },
    {
      "cell_type": "markdown",
      "source": [
        "> **Nhận xét**:\n",
        "> * Có thể thấy, khả năng dự đoán còn kém trên các class positive. Nhiều comment thực chất là positive nhưng lại bị dự đoán nhầm sang negative.\n",
        "> * Khả năng dự đoán trên class negative tốt hơn ở các model. Điều này có thể là do variance error. Ở project một, ta đã tách các comment có 4 đến 5 sao vào nhóm positive và còn lại thuộc class negative. Tuy nhiên điều này có thể sai:\n",
        ">   * Thực chất có các comment 3 sao đôi khi là các khách hàng trung bình, họ không thích cũng như không ghét sản phẩm, lúc này bài toán của chúng ta có thể tách thành 3 class là **positive**, **neutral** và **negative** để hị vọng khả năng dự đoán của model tốt hơn.\n",
        ">   * Do noise sample, lí do là có những comment măc dù về ngữ nghĩa là positive nhưng nó lại thuộc nhóm negative và ngược lại. Tức ta không tiền xử lí dữ liệu tốt. Tuy nhiên ta khó lòng giải quyết vì nó phụ thuộc vào đánh giá chủ quan của con người. Nhưng với khả năng hiện tại nhóm khó khắc phục được lỗi này."
      ],
      "metadata": {
        "id": "DOLAKvMU8Qw8"
      }
    },
    {
      "cell_type": "markdown",
      "source": [
        "Bây giờ ta sẽ lưu lại các model này cùng với vectorizer TF-IDF `min_df=5`. Ta cũng cần lưu lại file tập N-Grams các từ ghép tổ hợp từ 2, 3 và 4 từ để có thể tiến hành transform khi có dữ liệu mới. "
      ],
      "metadata": {
        "id": "AOAeken-8Qw9"
      }
    },
    {
      "cell_type": "code",
      "execution_count": 20,
      "source": [
        "Model.saveByPickle(svc_model, \"/content/drive/MyDrive/shopee/models/svc_model_comments.pickle\")\n",
        "Model.saveByPickle(logistic_model, \"/content/drive/MyDrive/shopee/models/logistic_model_comments.pickle\")"
      ],
      "outputs": [
        {
          "output_type": "stream",
          "name": "stdout",
          "text": [
            "<modules.model.SentimentModel object at 0x7faebe5d3190> has been saved at /content/drive/MyDrive/shopee/models/svc_model_comments.pickle.\n",
            "<modules.model.SentimentModel object at 0x7faebe577950> has been saved at /content/drive/MyDrive/shopee/models/logistic_model_comments.pickle.\n"
          ]
        }
      ],
      "metadata": {
        "id": "nLUlnyCo8Qw9",
        "outputId": "dd924a30-cb9a-4f40-f9ae-841e641502a3",
        "colab": {
          "base_uri": "https://localhost:8080/"
        }
      }
    }
  ],
  "metadata": {
    "orig_nbformat": 4,
    "language_info": {
      "name": "python",
      "version": "3.8.10",
      "mimetype": "text/x-python",
      "codemirror_mode": {
        "name": "ipython",
        "version": 3
      },
      "pygments_lexer": "ipython3",
      "nbconvert_exporter": "python",
      "file_extension": ".py"
    },
    "kernelspec": {
      "name": "python3",
      "display_name": "Python 3.8.10 64-bit"
    },
    "interpreter": {
      "hash": "916dbcbb3f70747c44a77c7bcd40155683ae19c65e1c03b4aa3499c5328201f1"
    },
    "colab": {
      "name": "03.SVC.ipynb",
      "provenance": [],
      "collapsed_sections": [],
      "include_colab_link": true
    }
  },
  "nbformat": 4,
  "nbformat_minor": 0
}